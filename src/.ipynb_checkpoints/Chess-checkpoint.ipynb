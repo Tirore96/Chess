{
 "cells": [
  {
   "cell_type": "code",
   "execution_count": 1,
   "metadata": {},
   "outputs": [],
   "source": [
    "%reload_ext Cython"
   ]
  },
  {
   "cell_type": "code",
   "execution_count": 18,
   "metadata": {},
   "outputs": [],
   "source": [
    "import cProfile\n",
    "import tensorflow as tf\n",
    "import os\n",
    "import re\n",
    "import chess\n",
    "import test\n",
    "import boardclass\n",
    "import importlib\n",
    "import numpy as np\n",
    "import pickle\n",
    "import training\n",
    "import chess.svg\n",
    "from IPython.display import SVG,display,clear_output\n",
    "importlib.reload(boardclass)\n",
    "importlib.reload(test)\n",
    "importlib.reload(training)\n",
    "#takes a long time to load, so only run once\n",
    "data_size = 1# Amount of games to use as trainingdata. max is 2.000.000 (If you want a really good model, you're gonna wait for it :P)"
   ]
  },
  {
   "cell_type": "code",
   "execution_count": 3,
   "metadata": {},
   "outputs": [
    {
     "name": "stdout",
     "output_type": "stream",
     "text": [
      "1 is done now\n",
      "2 is done now\n",
      "3 is done now\n",
      "0 is done now\n",
      "4 is done now\n"
     ]
    }
   ],
   "source": [
    "training.gen_pqr_pool(\"good_games.txt\",20,5)"
   ]
  },
  {
   "cell_type": "code",
   "execution_count": 4,
   "metadata": {},
   "outputs": [],
   "source": [
    "#This cell generates training data\n",
    "#Outcommented because training data already exists. If you want to generate more or less (tweak data_size), add the code and run this cell\n",
    "\n",
    "#train_data = training.TrainingData_PQR(\"../extracted/good_games.txt\",data_size)\n",
    "#bin_file = open(\"pickled_train_data.bin\",mode='wb')\n",
    "#pickle.dump(train_data,bin_file)\n",
    "#bin_file.close()"
   ]
  },
  {
   "cell_type": "code",
   "execution_count": 6,
   "metadata": {},
   "outputs": [],
   "source": [
    "#Loads saved training data\n",
    "\n",
    "bin_file = open(\"pickled_train_data.bin\",mode='rb+')\n",
    "train_data = pickle.load(bin_file)\n",
    "bin_file.close()"
   ]
  },
  {
   "cell_type": "code",
   "execution_count": 7,
   "metadata": {},
   "outputs": [
    {
     "data": {
      "text/plain": [
       "(215, 832)"
      ]
     },
     "execution_count": 7,
     "metadata": {},
     "output_type": "execute_result"
    }
   ],
   "source": [
    "train_data.p.shape"
   ]
  },
  {
   "cell_type": "code",
   "execution_count": 25,
   "metadata": {},
   "outputs": [
    {
     "name": "stdout",
     "output_type": "stream",
     "text": [
      "INFO:tensorflow:Restoring parameters from model/model_final.ckpt\n"
     ]
    }
   ],
   "source": [
    "#After running the other cells, run this cell to train the model and start the game\n",
    "\n",
    "render_size = 300\n",
    "depth = 2\n",
    "model_path = \"model_final.meta\"\n",
    "\n",
    "def make_imported_model(path):\n",
    "    model = training.Model()\n",
    "    model.restore(path)\n",
    "    return model\n",
    "    \n",
    "def make_trained_model(file_fetcher):   \n",
    "    model = training.Model()\n",
    "    model.run_session(file_fetcher)\n",
    "    return model\n",
    "    \n",
    "#def make_trained_board(player,depth):\n",
    "#    model = training.Model()\n",
    "#    model.run_session(train_data,depth)\n",
    "#    model.save_\n",
    "##    importlib.reload(training)\n",
    "#    board = boardclass.ChessBoard(player)#,path=\"model_final.meta\")\n",
    "#    board.add_model(model)\n",
    "##    board.train_model(data_size,train_data,depth)\n",
    "##    board.restore_model()\n",
    "#    return board\n",
    "\n",
    "def start_game_with_GUI(player,model,machine_against_machine=False):\n",
    "    board = boardclass.ChessBoard()\n",
    "    board.add_model(model)\n",
    "    display(SVG(chess.svg.board(board=board.python_board,size=render_size)))\n",
    "    stop = False\n",
    "    p = re.compile(\"^[a-h][0-8][a-h][0-8](q|n|r|b)?$\")\n",
    "\n",
    "    while True:\n",
    "        move = input()\n",
    "        if move == \"exit\":\n",
    "            break\n",
    "        if board.player == player and not machine_against_machine:\n",
    "            if p.match(move) == None:\n",
    "                print(\"Move: {} is not valid, try again\".format(move))\n",
    "            else:\n",
    "                board.make_move(move)\n",
    "                \n",
    "        else:\n",
    "            \n",
    "            score,move = board.return_best_move(depth)\n",
    "            board.make_move(move)\n",
    "        clear_output()\n",
    "        display(SVG(chess.svg.board(board=board.python_board,size=render_size)))\n",
    "        if board.player_in_chess != None:\n",
    "            print(board.player_in_chess)\n",
    "            print(\"Player {} lost\".format(board.player))\n",
    "            break\n",
    "#fetcher = training.File_fetcher(\"pickled/pickled_train_data.bin\",4)\n",
    "\n",
    "#model = training.Model()\n",
    "#model.run_session(training.File_fetcher(\"pickled/pickled_train_data.bin\",40),0,fetch_index=True)\n",
    "#model_trained = make_trained_model(fetcher)\n",
    "#model_trained.save(\"model/model_final.ckpt\")\n",
    "model_imported = make_imported_model(\"model/model_final.ckpt\")\n",
    "#model_trained.delete_model_files(\"model\",\"model_final\")\n",
    "#start_game_with_GUI(-1,model_imported,machine_against_machine=False)"
   ]
  },
  {
   "cell_type": "code",
   "execution_count": 20,
   "metadata": {},
   "outputs": [
    {
     "name": "stdout",
     "output_type": "stream",
     "text": [
      "Time used to train model: 146.1949179172516\n"
     ]
    }
   ],
   "source": [
    "model.run_session(training.File_fetcher(\"pickled/pickled_train_data.bin\",40),1,fetch_index=True)"
   ]
  },
  {
   "cell_type": "code",
   "execution_count": 22,
   "metadata": {},
   "outputs": [
    {
     "name": "stdout",
     "output_type": "stream",
     "text": [
      "Time used to train model: 195.10690188407898\n"
     ]
    }
   ],
   "source": [
    "model.run_session(training.File_fetcher(\"pickled/pickled_train_data.bin\",40),5,fetch_index=True)"
   ]
  },
  {
   "cell_type": "code",
   "execution_count": 23,
   "metadata": {},
   "outputs": [
    {
     "name": "stdout",
     "output_type": "stream",
     "text": [
      "Time used to train model: 179.40917992591858\n"
     ]
    }
   ],
   "source": [
    "model.run_session(training.File_fetcher(\"pickled/pickled_train_data.bin\",40),7,fetch_index=True)"
   ]
  },
  {
   "cell_type": "code",
   "execution_count": 24,
   "metadata": {},
   "outputs": [
    {
     "name": "stdout",
     "output_type": "stream",
     "text": [
      "Model saved at model/model_final.ckpt\n"
     ]
    }
   ],
   "source": [
    "#model.save(\"model/model_final.ckpt\")"
   ]
  },
  {
   "cell_type": "code",
   "execution_count": 9,
   "metadata": {},
   "outputs": [],
   "source": [
    "#b = chess.Board()\n",
    "#display(SVG(chess.svg.board(board=b,size=render_size)))\n",
    "#while True:\n",
    "#    do = input()\n",
    "#    p = re.compile(\"^[a-h][0-8][a-h][0-8](q|n|r|b)?$\")\n",
    "#    if not p.match(do):\n",
    "#        continue\n",
    "#    clear_output()\n",
    "#    move = chess.Move.from_uci(do)\n",
    "#    b.push(move)\n",
    "#    display(SVG(chess.svg.board(board=b,size=render_size)))   \n",
    "#    "
   ]
  },
  {
   "cell_type": "code",
   "execution_count": 10,
   "metadata": {},
   "outputs": [],
   "source": [
    "#testcases.unittest.main()"
   ]
  }
 ],
 "metadata": {
  "kernelspec": {
   "display_name": "Python [conda env:tf-gym]",
   "language": "python",
   "name": "conda-env-tf-gym-py"
  },
  "language_info": {
   "codemirror_mode": {
    "name": "ipython",
    "version": 3
   },
   "file_extension": ".py",
   "mimetype": "text/x-python",
   "name": "python",
   "nbconvert_exporter": "python",
   "pygments_lexer": "ipython3",
   "version": "3.6.4"
  }
 },
 "nbformat": 4,
 "nbformat_minor": 2
}
