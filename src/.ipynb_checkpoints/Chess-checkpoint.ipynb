{
 "cells": [
  {
   "cell_type": "code",
   "execution_count": 1,
   "metadata": {},
   "outputs": [],
   "source": [
    "%reload_ext Cython"
   ]
  },
  {
   "cell_type": "code",
   "execution_count": 8,
   "metadata": {},
   "outputs": [],
   "source": [
    "import cProfile\n",
    "import tensorflow as tf\n",
    "import os\n",
    "import re\n",
    "import chess\n",
    "import test\n",
    "import boardclass\n",
    "import importlib\n",
    "import numpy as np\n",
    "import pickle\n",
    "import training\n",
    "import chess.svg\n",
    "from IPython.display import SVG,display,clear_output\n",
    "importlib.reload(boardclass)\n",
    "importlib.reload(test)\n",
    "importlib.reload(training)\n",
    "#takes a long time to load, so only run once\n",
    "data_size = 1# Amount of games to use as trainingdata. max is 2.000.000 (If you want a really good model, you're gonna wait for it :P)"
   ]
  },
  {
   "cell_type": "code",
   "execution_count": 9,
   "metadata": {},
   "outputs": [
    {
     "name": "stdout",
     "output_type": "stream",
     "text": [
      "50 out of 80\n"
     ]
    }
   ],
   "source": [
    "#training.gen_pqr_pool(\"good_games.txt\",20,5)\n",
    "#training.gen_pqr_tuples(boardclass.file_to_move_lists(\"good_games.txt\",groundtruth=True),0,20,0)\n",
    "train_data = training.TrainingData_PQR(\"good_games.txt\",80)"
   ]
  },
  {
   "cell_type": "code",
   "execution_count": 10,
   "metadata": {},
   "outputs": [
    {
     "ename": "AttributeError",
     "evalue": "'ChessBoard' object has no attribute 'model'",
     "output_type": "error",
     "traceback": [
      "\u001b[0;31m---------------------------------------------------------------------------\u001b[0m",
      "\u001b[0;31mAttributeError\u001b[0m                            Traceback (most recent call last)",
      "\u001b[0;32m<ipython-input-10-7d4e96331c06>\u001b[0m in \u001b[0;36m<module>\u001b[0;34m()\u001b[0m\n\u001b[1;32m      1\u001b[0m \u001b[0mboard\u001b[0m \u001b[0;34m=\u001b[0m \u001b[0mboardclass\u001b[0m\u001b[0;34m.\u001b[0m\u001b[0mChessBoard\u001b[0m\u001b[0;34m(\u001b[0m\u001b[0;34m-\u001b[0m\u001b[0;36m1\u001b[0m\u001b[0;34m)\u001b[0m\u001b[0;34m\u001b[0m\u001b[0m\n\u001b[0;32m----> 2\u001b[0;31m \u001b[0mboard\u001b[0m\u001b[0;34m.\u001b[0m\u001b[0mtrain_model\u001b[0m\u001b[0;34m(\u001b[0m\u001b[0;36m80\u001b[0m\u001b[0;34m,\u001b[0m\u001b[0mtrain_data\u001b[0m\u001b[0;34m,\u001b[0m\u001b[0;36m1\u001b[0m\u001b[0;34m)\u001b[0m\u001b[0;34m\u001b[0m\u001b[0m\n\u001b[0m",
      "\u001b[0;32m~/Documents/Datalogi/MachineLearning_Projects/Chess/src/boardclass.py\u001b[0m in \u001b[0;36mtrain_model\u001b[0;34m(self, iterations, train_data, batch_size)\u001b[0m\n\u001b[1;32m    237\u001b[0m \u001b[0;34m\u001b[0m\u001b[0m\n\u001b[1;32m    238\u001b[0m     \u001b[0;32mdef\u001b[0m \u001b[0mtrain_model\u001b[0m\u001b[0;34m(\u001b[0m\u001b[0mself\u001b[0m\u001b[0;34m,\u001b[0m\u001b[0miterations\u001b[0m\u001b[0;34m,\u001b[0m\u001b[0mtrain_data\u001b[0m\u001b[0;34m,\u001b[0m\u001b[0mbatch_size\u001b[0m\u001b[0;34m)\u001b[0m\u001b[0;34m:\u001b[0m\u001b[0;34m\u001b[0m\u001b[0m\n\u001b[0;32m--> 239\u001b[0;31m         \u001b[0mself\u001b[0m\u001b[0;34m.\u001b[0m\u001b[0mmodel\u001b[0m\u001b[0;34m.\u001b[0m\u001b[0mrun_session\u001b[0m\u001b[0;34m(\u001b[0m\u001b[0miterations\u001b[0m\u001b[0;34m,\u001b[0m\u001b[0mtrain_data\u001b[0m\u001b[0;34m,\u001b[0m\u001b[0mbatch_size\u001b[0m\u001b[0;34m,\u001b[0m\u001b[0mdont_save\u001b[0m\u001b[0;34m=\u001b[0m\u001b[0;32mFalse\u001b[0m\u001b[0;34m)\u001b[0m\u001b[0;34m\u001b[0m\u001b[0m\n\u001b[0m\u001b[1;32m    240\u001b[0m \u001b[0;34m\u001b[0m\u001b[0m\n\u001b[1;32m    241\u001b[0m \u001b[0;31m#    def restore_model(self):\u001b[0m\u001b[0;34m\u001b[0m\u001b[0;34m\u001b[0m\u001b[0m\n",
      "\u001b[0;31mAttributeError\u001b[0m: 'ChessBoard' object has no attribute 'model'"
     ]
    }
   ],
   "source": [
    "board = boardclass.ChessBoard(-1)\n",
    "board.train_model(80,train_data,1)"
   ]
  },
  {
   "cell_type": "code",
   "execution_count": null,
   "metadata": {},
   "outputs": [],
   "source": [
    "#This cell generates training data\n",
    "#Outcommented because training data already exists. If you want to generate more or less (tweak data_size), add the code and run this cell\n",
    "\n",
    "#train_data = training.TrainingData_PQR(\"good_games.txt\",data_size)\n",
    "#bin_file = open(\"pickled_train_data.bin\",mode='wb')\n",
    "#pickle.dump(train_data,bin_file)\n",
    "#bin_file.close()"
   ]
  },
  {
   "cell_type": "code",
   "execution_count": null,
   "metadata": {},
   "outputs": [],
   "source": [
    "#Loads saved training data\n",
    "\n",
    "#bin_file = open(\"pickled_train_data.bin\",mode='rb+')\n",
    "#train_data = pickle.load(bin_file)\n",
    "#bin_file.close()"
   ]
  },
  {
   "cell_type": "code",
   "execution_count": null,
   "metadata": {},
   "outputs": [],
   "source": [
    "#train_data.p.shape"
   ]
  },
  {
   "cell_type": "code",
   "execution_count": null,
   "metadata": {},
   "outputs": [],
   "source": [
    "#After running the other cells, run this cell to train the model and start the game\n",
    "\n",
    "render_size = 300\n",
    "depth = 2\n",
    "model_path = \"model_final.meta\"\n",
    "\n",
    "def make_imported_model(path):\n",
    "    model = training.Model()\n",
    "    model.restore(path)\n",
    "    return model\n",
    "    \n",
    "def make_trained_model(file_fetcher):   \n",
    "    model = training.Model()\n",
    "    model.run_session(file_fetcher)\n",
    "    return model\n",
    "    \n",
    "#def make_trained_board(player,depth):\n",
    "#    model = training.Model()\n",
    "#    model.run_session(train_data,depth)\n",
    "#    model.save_\n",
    "##    importlib.reload(training)\n",
    "#    board = boardclass.ChessBoard(player)#,path=\"model_final.meta\")\n",
    "#    board.add_model(model)\n",
    "##    board.train_model(data_size,train_data,depth)\n",
    "##    board.restore_model()\n",
    "#    return board\n",
    "\n",
    "def start_game_with_GUI(player,model,machine_against_machine=False,clear=True):\n",
    "    board = boardclass.ChessBoard()\n",
    "    board.add_model(model)\n",
    "    display(SVG(chess.svg.board(board=board.python_board,size=render_size)))\n",
    "    stop = False\n",
    "    p = re.compile(\"^[a-h][0-8][a-h][0-8](q|n|r|b)?$\")\n",
    "\n",
    "    while True:\n",
    "        move = input()\n",
    "        if move == \"exit\":\n",
    "            break\n",
    "        if board.player == player and not machine_against_machine:\n",
    "            if p.match(move) == None:\n",
    "                print(\"Move: {} is not valid, try again\".format(move))\n",
    "            else:\n",
    "                board.make_move(move)\n",
    "                \n",
    "        else:\n",
    "            \n",
    "            score,move = board.return_best_move(depth)\n",
    "            board.make_move(move)\n",
    "        if clear:\n",
    "            clear_output()\n",
    "        display(SVG(chess.svg.board(board=board.python_board,size=render_size)))\n",
    "        if board.player_in_chess != None:\n",
    "            print(board.player_in_chess)\n",
    "            print(\"Player {} lost\".format(board.player))\n",
    "            break\n",
    "#fetcher = training.File_fetcher(\"pickled/pickled_train_data.bin\",4)\n",
    "\n",
    "#model = training.Model()\n",
    "#model.run_session(training.File_fetcher(\"pickled/pickled_train_data.bin\",40),0,fetch_index=True)\n",
    "#model_trained = make_trained_model(fetcher)\n",
    "#model_trained.save(\"model/model_final.ckpt\")\n",
    "#model_imported = make_imported_model(\"model/model_final.ckpt\")\n",
    "#model_trained.delete_model_files(\"model\",\"model_final\")\n",
    "#start_game_with_GUI(-1,model_imported,machine_against_machine=True,clear=True)"
   ]
  },
  {
   "cell_type": "code",
   "execution_count": null,
   "metadata": {},
   "outputs": [],
   "source": []
  },
  {
   "cell_type": "code",
   "execution_count": 6,
   "metadata": {},
   "outputs": [
    {
     "name": "stdout",
     "output_type": "stream",
     "text": [
      "new set\n",
      "score P: [[-48.97880936]]\n",
      "score Q: [[-42.7264061]]\n",
      "score R: [[-121.18047333]]\n",
      "score P: [[-53.33045578]]\n",
      "score Q: [[ 9.60468197]]\n",
      "score R: [[-52.53526688]]\n",
      "score P: [[-51.62412262]]\n",
      "score Q: [[-49.43821716]]\n",
      "score R: [[-26.58320427]]\n",
      "score P: [[-29.87957764]]\n",
      "score Q: [[-115.47071075]]\n",
      "score R: [[ 83.36797333]]\n",
      "score P: [[-116.65126801]]\n",
      "score Q: [[-70.75561523]]\n",
      "score R: [[-10.76215935]]\n",
      "score P: [[ 208.39360046]]\n",
      "score Q: [[ 99.94062042]]\n",
      "score R: [[ 212.07991028]]\n",
      "score P: [[ 23.17034721]]\n",
      "score Q: [[ 62.66346741]]\n",
      "score R: [[ 67.50260162]]\n",
      "score P: [[ 2.08014154]]\n",
      "score Q: [[ 3.23269248]]\n",
      "score R: [[ 37.12494278]]\n",
      "score P: [[-0.45853794]]\n",
      "score Q: [[ 24.59228134]]\n",
      "score R: [[-7.58228874]]\n",
      "score P: [[-48.98544693]]\n",
      "score Q: [[-70.47348785]]\n",
      "score R: [[-70.47348785]]\n",
      "score P: [[ 83.13889313]]\n",
      "score Q: [[ 78.36333466]]\n",
      "score R: [[ 76.3542099]]\n",
      "score P: [[-175.12039185]]\n",
      "score Q: [[-169.03819275]]\n",
      "score R: [[-175.35540771]]\n",
      "score P: [[-5.10590553]]\n",
      "score Q: [[ 13.44094563]]\n",
      "score R: [[-59.94941711]]\n",
      "score P: [[ 50.34080887]]\n",
      "score Q: [[ 35.28232193]]\n",
      "score R: [[ 67.09628296]]\n",
      "score P: [[-104.74358368]]\n",
      "score Q: [[-80.89431763]]\n",
      "score R: [[-101.18309784]]\n",
      "Time used to train model: 36.40731644630432\n"
     ]
    }
   ],
   "source": [
    "model = training.Model()\n",
    "indices = [0]#,5,7]\n",
    "for i in indices:\n",
    "    print(\"new set\")\n",
    "    model.run_session(training.File_fetcher(\"pickled/pickled_train_data.bin\",0),i,fetch_index=True)"
   ]
  },
  {
   "cell_type": "code",
   "execution_count": null,
   "metadata": {},
   "outputs": [],
   "source": []
  },
  {
   "cell_type": "code",
   "execution_count": null,
   "metadata": {},
   "outputs": [],
   "source": []
  },
  {
   "cell_type": "code",
   "execution_count": null,
   "metadata": {},
   "outputs": [],
   "source": [
    "#model.save(\"model/model_final.ckpt\")"
   ]
  },
  {
   "cell_type": "code",
   "execution_count": null,
   "metadata": {},
   "outputs": [],
   "source": [
    "b = chess.Board()\n",
    "display(SVG(chess.svg.board(board=b,size=render_size)))\n",
    "while True:\n",
    "    do = input()\n",
    "    p = re.compile(\"^[a-h][0-8][a-h][0-8](q|n|r|b)?$\")\n",
    "    if not p.match(do):\n",
    "        continue\n",
    "    clear_output()\n",
    "    move = chess.Move.from_uci(do)\n",
    "    b.push(move)\n",
    "    display(SVG(chess.svg.board(board=b,size=render_size)))   \n",
    "    "
   ]
  },
  {
   "cell_type": "code",
   "execution_count": null,
   "metadata": {},
   "outputs": [],
   "source": [
    "#testcases.unittest.main()"
   ]
  }
 ],
 "metadata": {
  "kernelspec": {
   "display_name": "Python [conda env:tf-gym]",
   "language": "python",
   "name": "conda-env-tf-gym-py"
  },
  "language_info": {
   "codemirror_mode": {
    "name": "ipython",
    "version": 3
   },
   "file_extension": ".py",
   "mimetype": "text/x-python",
   "name": "python",
   "nbconvert_exporter": "python",
   "pygments_lexer": "ipython3",
   "version": "3.6.4"
  }
 },
 "nbformat": 4,
 "nbformat_minor": 2
}
