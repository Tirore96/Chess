{
 "cells": [
  {
   "cell_type": "code",
   "execution_count": 1,
   "metadata": {},
   "outputs": [],
   "source": [
    "%reload_ext Cython"
   ]
  },
  {
   "cell_type": "code",
   "execution_count": 16,
   "metadata": {},
   "outputs": [
    {
     "name": "stdout",
     "output_type": "stream",
     "text": [
      "Tensor(\"add_134:0\", shape=(?, 1), dtype=float32)\n"
     ]
    }
   ],
   "source": [
    "import cProfile\n",
    "import tensorflow as tf\n",
    "import os\n",
    "import re\n",
    "import chess\n",
    "import test\n",
    "import boardclass\n",
    "import importlib\n",
    "import numpy as np\n",
    "import pickle\n",
    "import training\n",
    "import chess.svg\n",
    "from IPython.display import SVG,display,clear_output\n",
    "importlib.reload(boardclass)\n",
    "importlib.reload(test)\n",
    "importlib.reload(training)\n",
    "#takes a long time to load, so only run once\n",
    "data_size = 1# Amount of games to use as trainingdata. max is 2.000.000 (If you want a really good model, you're gonna wait for it :P)"
   ]
  },
  {
   "cell_type": "code",
   "execution_count": null,
   "metadata": {},
   "outputs": [],
   "source": [
    "training.gen_pqr_pool(\"good_games.txt\",20,5)"
   ]
  },
  {
   "cell_type": "code",
   "execution_count": null,
   "metadata": {},
   "outputs": [],
   "source": [
    "#This cell generates training data\n",
    "#Outcommented because training data already exists. If you want to generate more or less (tweak data_size), add the code and run this cell\n",
    "\n",
    "#train_data = training.TrainingData_PQR(\"../extracted/good_games.txt\",data_size)\n",
    "#bin_file = open(\"pickled_train_data.bin\",mode='wb')\n",
    "#pickle.dump(train_data,bin_file)\n",
    "#bin_file.close()"
   ]
  },
  {
   "cell_type": "code",
   "execution_count": null,
   "metadata": {},
   "outputs": [],
   "source": [
    "#Loads saved training data\n",
    "\n",
    "bin_file = open(\"pickled_train_data.bin\",mode='rb+')\n",
    "train_data = pickle.load(bin_file)\n",
    "bin_file.close()"
   ]
  },
  {
   "cell_type": "code",
   "execution_count": null,
   "metadata": {},
   "outputs": [],
   "source": [
    "train_data.p.shape"
   ]
  },
  {
   "cell_type": "code",
   "execution_count": null,
   "metadata": {},
   "outputs": [],
   "source": [
    "#After running the other cells, run this cell to train the model and start the game\n",
    "\n",
    "render_size = 300\n",
    "depth = 2\n",
    "model_path = \"model_final.meta\"\n",
    "\n",
    "def make_imported_model(path):\n",
    "    model = training.Model()\n",
    "    model.restore(path)\n",
    "    return model\n",
    "    \n",
    "def make_trained_model(file_fetcher):   \n",
    "    model = training.Model()\n",
    "    model.run_session(file_fetcher)\n",
    "    return model\n",
    "    \n",
    "#def make_trained_board(player,depth):\n",
    "#    model = training.Model()\n",
    "#    model.run_session(train_data,depth)\n",
    "#    model.save_\n",
    "##    importlib.reload(training)\n",
    "#    board = boardclass.ChessBoard(player)#,path=\"model_final.meta\")\n",
    "#    board.add_model(model)\n",
    "##    board.train_model(data_size,train_data,depth)\n",
    "##    board.restore_model()\n",
    "#    return board\n",
    "\n",
    "def start_game_with_GUI(player,model,machine_against_machine=False,clear=True):\n",
    "    board = boardclass.ChessBoard()\n",
    "    board.add_model(model)\n",
    "    display(SVG(chess.svg.board(board=board.python_board,size=render_size)))\n",
    "    stop = False\n",
    "    p = re.compile(\"^[a-h][0-8][a-h][0-8](q|n|r|b)?$\")\n",
    "\n",
    "    while True:\n",
    "        move = input()\n",
    "        if move == \"exit\":\n",
    "            break\n",
    "        if board.player == player and not machine_against_machine:\n",
    "            if p.match(move) == None:\n",
    "                print(\"Move: {} is not valid, try again\".format(move))\n",
    "            else:\n",
    "                board.make_move(move)\n",
    "                \n",
    "        else:\n",
    "            \n",
    "            score,move = board.return_best_move(depth)\n",
    "            board.make_move(move)\n",
    "        if clear:\n",
    "            clear_output()\n",
    "        display(SVG(chess.svg.board(board=board.python_board,size=render_size)))\n",
    "        if board.player_in_chess != None:\n",
    "            print(board.player_in_chess)\n",
    "            print(\"Player {} lost\".format(board.player))\n",
    "            break\n",
    "#fetcher = training.File_fetcher(\"pickled/pickled_train_data.bin\",4)\n",
    "\n",
    "#model = training.Model()\n",
    "#model.run_session(training.File_fetcher(\"pickled/pickled_train_data.bin\",40),0,fetch_index=True)\n",
    "#model_trained = make_trained_model(fetcher)\n",
    "#model_trained.save(\"model/model_final.ckpt\")\n",
    "model_imported = make_imported_model(\"model/model_final.ckpt\")\n",
    "#model_trained.delete_model_files(\"model\",\"model_final\")\n",
    "start_game_with_GUI(-1,model_imported,machine_against_machine=True,clear=True)"
   ]
  },
  {
   "cell_type": "code",
   "execution_count": null,
   "metadata": {},
   "outputs": [],
   "source": []
  },
  {
   "cell_type": "code",
   "execution_count": 17,
   "metadata": {},
   "outputs": [
    {
     "name": "stdout",
     "output_type": "stream",
     "text": [
      "score P: [[-80.3895874]]\n",
      "score Q: [[-150.40238953]]\n",
      "score R: [[-72.03691101]]\n",
      "score P: [[ 21.69454193]]\n",
      "score Q: [[ 73.69618225]]\n",
      "score R: [[-6.26545286]]\n",
      "score P: [[-107.04845428]]\n",
      "score Q: [[-57.84960175]]\n",
      "score R: [[-67.16874695]]\n",
      "score P: [[ 30.52698708]]\n",
      "score Q: [[ 30.27340317]]\n",
      "score R: [[ 8.72468185]]\n",
      "score P: [[ 2.82692361]]\n",
      "score Q: [[-0.99833089]]\n",
      "score R: [[-41.13646698]]\n",
      "score P: [[-103.55138397]]\n",
      "score Q: [[-108.33966827]]\n",
      "score R: [[-85.73786163]]\n",
      "score P: [[ 34.33650208]]\n",
      "score Q: [[ 75.33983612]]\n",
      "score R: [[ 59.74659729]]\n",
      "score P: [[-58.16994476]]\n",
      "score Q: [[-97.56344604]]\n",
      "score R: [[-113.29606628]]\n",
      "score P: [[ 57.28282166]]\n",
      "score Q: [[ 76.17584991]]\n",
      "score R: [[ 70.27394104]]\n",
      "score P: [[ 8.08393478]]\n",
      "score Q: [[-45.12320328]]\n",
      "score R: [[-1.07204604]]\n",
      "score P: [[-86.43309021]]\n",
      "score Q: [[-142.02719116]]\n",
      "score R: [[-59.19788742]]\n",
      "score P: [[-8.47264385]]\n",
      "score Q: [[-15.31001949]]\n",
      "score R: [[ 30.6026783]]\n",
      "score P: [[-43.04695129]]\n",
      "score Q: [[-9.84748554]]\n",
      "score R: [[-29.86728477]]\n",
      "score P: [[ 20.35808182]]\n",
      "score Q: [[-20.3343811]]\n",
      "score R: [[ 58.91773987]]\n",
      "score P: [[ 19.73839951]]\n",
      "score Q: [[ 27.50238609]]\n",
      "score R: [[ 27.50238609]]\n",
      "score P: [[ 0.25607324]]\n",
      "score Q: [[-1.38792109]]\n",
      "score R: [[ 27.67254448]]\n",
      "score P: [[-77.37365723]]\n",
      "score Q: [[-101.0974884]]\n",
      "score R: [[-65.38460541]]\n",
      "score P: [[ 9.53512096]]\n",
      "score Q: [[-6.89843798]]\n",
      "score R: [[ 19.3821125]]\n",
      "score P: [[-27.33629799]]\n",
      "score Q: [[ 31.14575958]]\n",
      "score R: [[ 44.89657211]]\n",
      "score P: [[-38.08071136]]\n",
      "score Q: [[-31.40158653]]\n",
      "score R: [[-57.35549545]]\n",
      "score P: [[ 3.4820137]]\n",
      "score Q: [[-34.9079628]]\n",
      "score R: [[ 13.15290833]]\n",
      "score P: [[-26.60778999]]\n",
      "score Q: [[-58.98563004]]\n",
      "score R: [[-72.77008057]]\n",
      "score P: [[ 19.77442932]]\n",
      "score Q: [[ 23.83948326]]\n",
      "score R: [[ 12.28686333]]\n",
      "score P: [[-11.99706078]]\n",
      "score Q: [[-6.7578392]]\n",
      "score R: [[ 29.91147614]]\n",
      "score P: [[-20.60481453]]\n",
      "score Q: [[ 25.20663452]]\n",
      "score R: [[-27.35987473]]\n",
      "score P: [[ 4.816998]]\n",
      "score Q: [[-9.11281395]]\n",
      "score R: [[ 26.78967667]]\n",
      "score P: [[ 29.53962135]]\n",
      "score Q: [[-11.09635544]]\n",
      "score R: [[ 43.00886917]]\n",
      "score P: [[-30.55843735]]\n",
      "score Q: [[ 22.24623108]]\n",
      "score R: [[-23.27886963]]\n",
      "Time used to train model: 112.25572872161865\n"
     ]
    }
   ],
   "source": [
    "model = training.Model()\n",
    "model.run_session(training.File_fetcher(\"pickled/pickled_train_data.bin\",40),1,fetch_index=True)\n",
    "\n",
    "#model.run_session(training.File_fetcher(\"pickled/pickled_train_data.bin\",40),5,fetch_index=True)\n",
    "#\n",
    "#model.run_session(training.File_fetcher(\"pickled/pickled_train_data.bin\",40),7,fetch_index=True)"
   ]
  },
  {
   "cell_type": "code",
   "execution_count": null,
   "metadata": {},
   "outputs": [],
   "source": []
  },
  {
   "cell_type": "code",
   "execution_count": null,
   "metadata": {},
   "outputs": [],
   "source": []
  },
  {
   "cell_type": "code",
   "execution_count": null,
   "metadata": {},
   "outputs": [],
   "source": [
    "#model.save(\"model/model_final.ckpt\")"
   ]
  },
  {
   "cell_type": "code",
   "execution_count": null,
   "metadata": {},
   "outputs": [],
   "source": [
    "b = chess.Board()\n",
    "display(SVG(chess.svg.board(board=b,size=render_size)))\n",
    "while True:\n",
    "    do = input()\n",
    "    p = re.compile(\"^[a-h][0-8][a-h][0-8](q|n|r|b)?$\")\n",
    "    if not p.match(do):\n",
    "        continue\n",
    "    clear_output()\n",
    "    move = chess.Move.from_uci(do)\n",
    "    b.push(move)\n",
    "    display(SVG(chess.svg.board(board=b,size=render_size)))   \n",
    "    "
   ]
  },
  {
   "cell_type": "code",
   "execution_count": null,
   "metadata": {},
   "outputs": [],
   "source": [
    "#testcases.unittest.main()"
   ]
  }
 ],
 "metadata": {
  "kernelspec": {
   "display_name": "Python [conda env:tf-gym]",
   "language": "python",
   "name": "conda-env-tf-gym-py"
  },
  "language_info": {
   "codemirror_mode": {
    "name": "ipython",
    "version": 3
   },
   "file_extension": ".py",
   "mimetype": "text/x-python",
   "name": "python",
   "nbconvert_exporter": "python",
   "pygments_lexer": "ipython3",
   "version": "3.6.4"
  }
 },
 "nbformat": 4,
 "nbformat_minor": 2
}
