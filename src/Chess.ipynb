{
 "cells": [
  {
   "cell_type": "code",
   "execution_count": 1,
   "metadata": {},
   "outputs": [],
   "source": [
    "%reload_ext Cython"
   ]
  },
  {
   "cell_type": "code",
   "execution_count": null,
   "metadata": {},
   "outputs": [],
   "source": [
    "import training\n",
    "import importlib\n",
    "importlib.reload(training)\n",
    "train_data = training.TrainingData_PQR(\"../extracted/good_games.txt\",80)"
   ]
  },
  {
   "cell_type": "code",
   "execution_count": null,
   "metadata": {},
   "outputs": [],
   "source": [
    "import cProfile\n",
    "import tensorflow as tf\n",
    "import os\n",
    "import re\n",
    "import chess\n",
    "import test\n",
    "import boardclass\n",
    "#import training\n",
    "import importlib\n",
    "import numpy as np\n",
    "importlib.reload(boardclass)\n",
    "importlib.reload(test)\n",
    "importlib.reload(training)"
   ]
  },
  {
   "cell_type": "code",
   "execution_count": null,
   "metadata": {},
   "outputs": [],
   "source": [
    "board = boardclass.ChessBoard(-1)\n",
    "board.train_model(80,train_data,1)\n",
    "\n",
    "\n",
    "board.restore_model()\n",
    "\n",
    "score,move = board.return_best_move(1)\n",
    "###board.close_session()\n",
    "##\n",
    "print(score,move)\n",
    "#tf.reset_default_graph()"
   ]
  },
  {
   "cell_type": "code",
   "execution_count": null,
   "metadata": {},
   "outputs": [],
   "source": [
    "for i in range(20):\n",
    "    score,move = board.return_best_move(1)\n",
    "    print(\"Score: {}\".format(score))\n",
    "    board.make_move(move)\n",
    "    board.show_board()"
   ]
  },
  {
   "cell_type": "code",
   "execution_count": null,
   "metadata": {},
   "outputs": [],
   "source": [
    "\n",
    "importlib.reload(test)\n",
    "%run testcases.py"
   ]
  },
  {
   "cell_type": "code",
   "execution_count": null,
   "metadata": {},
   "outputs": [],
   "source": []
  },
  {
   "cell_type": "code",
   "execution_count": null,
   "metadata": {},
   "outputs": [],
   "source": []
  }
 ],
 "metadata": {
  "kernelspec": {
   "display_name": "Python [conda env:tf-gym]",
   "language": "python",
   "name": "conda-env-tf-gym-py"
  },
  "language_info": {
   "codemirror_mode": {
    "name": "ipython",
    "version": 3
   },
   "file_extension": ".py",
   "mimetype": "text/x-python",
   "name": "python",
   "nbconvert_exporter": "python",
   "pygments_lexer": "ipython3",
   "version": "3.6.4"
  }
 },
 "nbformat": 4,
 "nbformat_minor": 2
}
