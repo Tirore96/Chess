{
 "cells": [
  {
   "cell_type": "code",
   "execution_count": 1,
   "metadata": {},
   "outputs": [],
   "source": [
    "#%reload_ext Cython"
   ]
  },
  {
   "cell_type": "code",
   "execution_count": 2,
   "metadata": {},
   "outputs": [],
   "source": [
    "#import typing\n",
    "#import copy\n",
    "#import pdb\n",
    "#from IPython.display import clear_output\n",
    "#import numpy as np\n",
    "#import time\n",
    "#from colorama import Fore\n",
    "#import sys\n",
    "#import cProfile\n",
    "#from multiprocessing import Pool\n",
    "#import chess \n",
    "#import chess.uci\n",
    "#import tensorflow as tf\n",
    "#import random\n",
    "#import boardclass\n",
    "import test\n",
    "import boardclass"
   ]
  },
  {
   "cell_type": "code",
   "execution_count": 3,
   "metadata": {},
   "outputs": [
    {
     "name": "stdout",
     "output_type": "stream",
     "text": [
      "118 of of 29168\n",
      "119 of of 29168\n",
      "my board\n",
      "[[ 0  0  0  0  0  0  0  0]\n",
      " [ 0  0  0  0  5  0  0  0]\n",
      " [ 0  0  0  0  6  0  0  0]\n",
      " [ 0  6  0  0 -6  6  6  6]\n",
      " [ 0  0  0  0 -5  0  0  0]\n",
      " [ 0  0 -6  0  0  0  0  0]\n",
      " [ 0  0  0  0  0  0 -6  0]\n",
      " [ 0  0  0  0  0  0  0  0]]\n",
      "ground truth\n",
      ". . . . . . . .\n",
      ". . . . k . . .\n",
      ". . . . p P . .\n",
      ". p . . . . p p\n",
      ". . . . K . . .\n",
      ". . P . . . . .\n",
      ". . . . . . P .\n",
      ". . . . . . . .\n",
      "At 2, 5, expected -6, got 0. Previous moves: ['e4e5', 'f6d5', 'f3d5', 'b7d5', 'g3e4', 'd5e4', 'd4e4', 'h6h5', 'c2c3', 'f7f5'], reached 70 out of 78. Move is e5f6\n",
      "['d2d4', 'd7d5', 'b1c3', 'e7e6', 'c1f4', 'f8d6', 'f4g3', 'g8f6', 'd1d3', 'a7a6', 'f2f3', 'c7c5', 'e2e4', 'c5d4', 'd3d4', 'd6g3', 'h2g3', 'd5e4', 'd4d8', 'e8d8', 'e1c1', 'd8e7', 'f3e4', 'b8c6', 'f1e2', 'b7b5', 'g3g4', 'g7g5', 'e2f3', 'c8b7', 'g1e2', 'h7h6', 'e2g3', 'c6e5', 'd1d2', 'a8d8', 'h1d1', 'd8d2', 'd1d2', 'h8d8', 'd2d8', 'e7d8', 'a2a3', 'd8e7', 'c1d2', 'e5g4', 'c3e2', 'g4e5', 'd2e3', 'e5c4', 'e3d4', 'c4b2', 'e2c3', 'b2c4', 'a3a4', 'c4d6', 'a4b5', 'd6b5', 'c3b5', 'a6b5', 'e4e5', 'f6d5', 'f3d5', 'b7d5', 'g3e4', 'd5e4', 'd4e4', 'h6h5', 'c2c3', 'f7f5', 'e5f6', 'e7f6', 'g2g3', 'h5h4', 'g3g4', 'e6e5', 'e4f3', 'f6e6']\n",
      "70\n"
     ]
    }
   ],
   "source": [
    "path = \"../extracted/good_games.txt\"\n",
    "tested_upto = 118\n",
    "#boardclass.file_to_move_lists(path,move_size=5)\n",
    "troubling_moves,troubling_index = test.compare_boards_with_file(path,index=tested_upto)\n",
    "print(troubling_moves)\n",
    "print(troubling_index)"
   ]
  },
  {
   "cell_type": "code",
   "execution_count": 4,
   "metadata": {},
   "outputs": [
    {
     "name": "stdout",
     "output_type": "stream",
     "text": [
      "\u001b[30m8\t\u001b[30m_\t\u001b[30m_\t\u001b[30m_\t\u001b[30m_\t\u001b[30m_\t\u001b[30m_\t\u001b[30m_\t\u001b[30m_\t\n",
      "\n",
      "\u001b[30m7\t\u001b[30m_\t\u001b[30m_\t\u001b[30m_\t\u001b[30m_\t\u001b[34mKing\t\u001b[30m_\t\u001b[30m_\t\u001b[30m_\t\n",
      "\n",
      "\u001b[30m6\t\u001b[30m_\t\u001b[30m_\t\u001b[30m_\t\u001b[30m_\t\u001b[34mPawn\t\u001b[30m_\t\u001b[30m_\t\u001b[30m_\t\n",
      "\n",
      "\u001b[30m5\t\u001b[30m_\t\u001b[34mPawn\t\u001b[30m_\t\u001b[30m_\t\u001b[30mPawn\t\u001b[34mPawn\t\u001b[34mPawn\t\u001b[34mPawn\t\n",
      "\n",
      "\u001b[30m4\t\u001b[30m_\t\u001b[30m_\t\u001b[30m_\t\u001b[30m_\t\u001b[30mKing\t\u001b[30m_\t\u001b[30m_\t\u001b[30m_\t\n",
      "\n",
      "\u001b[30m3\t\u001b[30m_\t\u001b[30m_\t\u001b[30mPawn\t\u001b[30m_\t\u001b[30m_\t\u001b[30m_\t\u001b[30m_\t\u001b[30m_\t\n",
      "\n",
      "\u001b[30m2\t\u001b[30m_\t\u001b[30m_\t\u001b[30m_\t\u001b[30m_\t\u001b[30m_\t\u001b[30m_\t\u001b[30mPawn\t\u001b[30m_\t\n",
      "\n",
      "\u001b[30m1\t\u001b[30m_\t\u001b[30m_\t\u001b[30m_\t\u001b[30m_\t\u001b[30m_\t\u001b[30m_\t\u001b[30m_\t\u001b[30m_\t\n",
      "\n",
      "\t\u001b[30ma\t\u001b[30mb\t\u001b[30mc\t\u001b[30md\t\u001b[30me\t\u001b[30mf\t\u001b[30mg\t\u001b[30mh\tdid not make move\n"
     ]
    },
    {
     "ename": "KeyboardInterrupt",
     "evalue": "",
     "output_type": "error",
     "traceback": [
      "\u001b[0;31m---------------------------------------------------------------------------\u001b[0m",
      "\u001b[0;31mKeyboardInterrupt\u001b[0m                         Traceback (most recent call last)",
      "\u001b[0;32m/anaconda3/envs/tf-gym/lib/python3.6/site-packages/ipykernel/kernelbase.py\u001b[0m in \u001b[0;36m_input_request\u001b[0;34m(self, prompt, ident, parent, password)\u001b[0m\n\u001b[1;32m    728\u001b[0m             \u001b[0;32mtry\u001b[0m\u001b[0;34m:\u001b[0m\u001b[0;34m\u001b[0m\u001b[0m\n\u001b[0;32m--> 729\u001b[0;31m                 \u001b[0mident\u001b[0m\u001b[0;34m,\u001b[0m \u001b[0mreply\u001b[0m \u001b[0;34m=\u001b[0m \u001b[0mself\u001b[0m\u001b[0;34m.\u001b[0m\u001b[0msession\u001b[0m\u001b[0;34m.\u001b[0m\u001b[0mrecv\u001b[0m\u001b[0;34m(\u001b[0m\u001b[0mself\u001b[0m\u001b[0;34m.\u001b[0m\u001b[0mstdin_socket\u001b[0m\u001b[0;34m,\u001b[0m \u001b[0;36m0\u001b[0m\u001b[0;34m)\u001b[0m\u001b[0;34m\u001b[0m\u001b[0m\n\u001b[0m\u001b[1;32m    730\u001b[0m             \u001b[0;32mexcept\u001b[0m \u001b[0mException\u001b[0m\u001b[0;34m:\u001b[0m\u001b[0;34m\u001b[0m\u001b[0m\n",
      "\u001b[0;32m/anaconda3/envs/tf-gym/lib/python3.6/site-packages/jupyter_client/session.py\u001b[0m in \u001b[0;36mrecv\u001b[0;34m(self, socket, mode, content, copy)\u001b[0m\n\u001b[1;32m    802\u001b[0m         \u001b[0;32mtry\u001b[0m\u001b[0;34m:\u001b[0m\u001b[0;34m\u001b[0m\u001b[0m\n\u001b[0;32m--> 803\u001b[0;31m             \u001b[0mmsg_list\u001b[0m \u001b[0;34m=\u001b[0m \u001b[0msocket\u001b[0m\u001b[0;34m.\u001b[0m\u001b[0mrecv_multipart\u001b[0m\u001b[0;34m(\u001b[0m\u001b[0mmode\u001b[0m\u001b[0;34m,\u001b[0m \u001b[0mcopy\u001b[0m\u001b[0;34m=\u001b[0m\u001b[0mcopy\u001b[0m\u001b[0;34m)\u001b[0m\u001b[0;34m\u001b[0m\u001b[0m\n\u001b[0m\u001b[1;32m    804\u001b[0m         \u001b[0;32mexcept\u001b[0m \u001b[0mzmq\u001b[0m\u001b[0;34m.\u001b[0m\u001b[0mZMQError\u001b[0m \u001b[0;32mas\u001b[0m \u001b[0me\u001b[0m\u001b[0;34m:\u001b[0m\u001b[0;34m\u001b[0m\u001b[0m\n",
      "\u001b[0;32m/anaconda3/envs/tf-gym/lib/python3.6/site-packages/zmq/sugar/socket.py\u001b[0m in \u001b[0;36mrecv_multipart\u001b[0;34m(self, flags, copy, track)\u001b[0m\n\u001b[1;32m    465\u001b[0m         \"\"\"\n\u001b[0;32m--> 466\u001b[0;31m         \u001b[0mparts\u001b[0m \u001b[0;34m=\u001b[0m \u001b[0;34m[\u001b[0m\u001b[0mself\u001b[0m\u001b[0;34m.\u001b[0m\u001b[0mrecv\u001b[0m\u001b[0;34m(\u001b[0m\u001b[0mflags\u001b[0m\u001b[0;34m,\u001b[0m \u001b[0mcopy\u001b[0m\u001b[0;34m=\u001b[0m\u001b[0mcopy\u001b[0m\u001b[0;34m,\u001b[0m \u001b[0mtrack\u001b[0m\u001b[0;34m=\u001b[0m\u001b[0mtrack\u001b[0m\u001b[0;34m)\u001b[0m\u001b[0;34m]\u001b[0m\u001b[0;34m\u001b[0m\u001b[0m\n\u001b[0m\u001b[1;32m    467\u001b[0m         \u001b[0;31m# have first part already, only loop while more to receive\u001b[0m\u001b[0;34m\u001b[0m\u001b[0;34m\u001b[0m\u001b[0m\n",
      "\u001b[0;32mzmq/backend/cython/socket.pyx\u001b[0m in \u001b[0;36mzmq.backend.cython.socket.Socket.recv\u001b[0;34m()\u001b[0m\n",
      "\u001b[0;32mzmq/backend/cython/socket.pyx\u001b[0m in \u001b[0;36mzmq.backend.cython.socket.Socket.recv\u001b[0;34m()\u001b[0m\n",
      "\u001b[0;32mzmq/backend/cython/socket.pyx\u001b[0m in \u001b[0;36mzmq.backend.cython.socket._recv_copy\u001b[0;34m()\u001b[0m\n",
      "\u001b[0;32m/anaconda3/envs/tf-gym/lib/python3.6/site-packages/zmq/backend/cython/checkrc.pxd\u001b[0m in \u001b[0;36mzmq.backend.cython.checkrc._check_rc\u001b[0;34m()\u001b[0m\n",
      "\u001b[0;31mKeyboardInterrupt\u001b[0m: ",
      "\nDuring handling of the above exception, another exception occurred:\n",
      "\u001b[0;31mKeyboardInterrupt\u001b[0m                         Traceback (most recent call last)",
      "\u001b[0;32m<ipython-input-4-82f2f4ee49c0>\u001b[0m in \u001b[0;36m<module>\u001b[0;34m()\u001b[0m\n\u001b[0;32m----> 1\u001b[0;31m \u001b[0mtest\u001b[0m\u001b[0;34m.\u001b[0m\u001b[0mstart_game\u001b[0m\u001b[0;34m(\u001b[0m\u001b[0;34m-\u001b[0m\u001b[0;36m1\u001b[0m\u001b[0;34m,\u001b[0m\u001b[0mtroubling_moves\u001b[0m\u001b[0;34m,\u001b[0m\u001b[0mwatching\u001b[0m\u001b[0;34m=\u001b[0m\u001b[0;32mTrue\u001b[0m\u001b[0;34m,\u001b[0m\u001b[0mfast_play\u001b[0m\u001b[0;34m=\u001b[0m\u001b[0;32mTrue\u001b[0m\u001b[0;34m,\u001b[0m\u001b[0mfast_play_count\u001b[0m\u001b[0;34m=\u001b[0m\u001b[0mtroubling_index\u001b[0m\u001b[0;34m-\u001b[0m\u001b[0;36m1\u001b[0m\u001b[0;34m,\u001b[0m\u001b[0mclear\u001b[0m\u001b[0;34m=\u001b[0m\u001b[0;32mTrue\u001b[0m\u001b[0;34m,\u001b[0m\u001b[0mset_pdb\u001b[0m\u001b[0;34m=\u001b[0m\u001b[0;32mFalse\u001b[0m\u001b[0;34m)\u001b[0m\u001b[0;34m\u001b[0m\u001b[0m\n\u001b[0m",
      "\u001b[0;32m~/Documents/Datalogi/MachineLearning_Projects/Chess/src/test.py\u001b[0m in \u001b[0;36mstart_game\u001b[0;34m(player, moves, watching, fast_play, fast_play_count, clear, set_pdb)\u001b[0m\n\u001b[1;32m    119\u001b[0m         \u001b[0;32mif\u001b[0m \u001b[0mset_pdb\u001b[0m\u001b[0;34m:\u001b[0m\u001b[0;34m\u001b[0m\u001b[0m\n\u001b[1;32m    120\u001b[0m             \u001b[0mpdb\u001b[0m\u001b[0;34m.\u001b[0m\u001b[0mset_trace\u001b[0m\u001b[0;34m(\u001b[0m\u001b[0;34m)\u001b[0m\u001b[0;34m\u001b[0m\u001b[0m\n\u001b[0;32m--> 121\u001b[0;31m         \u001b[0mdo\u001b[0m \u001b[0;34m=\u001b[0m \u001b[0minput\u001b[0m\u001b[0;34m(\u001b[0m\u001b[0;34m)\u001b[0m\u001b[0;34m\u001b[0m\u001b[0m\n\u001b[0m\u001b[1;32m    122\u001b[0m \u001b[0;31m#        if do == \"\":\u001b[0m\u001b[0;34m\u001b[0m\u001b[0;34m\u001b[0m\u001b[0m\n\u001b[1;32m    123\u001b[0m \u001b[0;31m#            do = prev\u001b[0m\u001b[0;34m\u001b[0m\u001b[0;34m\u001b[0m\u001b[0m\n",
      "\u001b[0;32m/anaconda3/envs/tf-gym/lib/python3.6/site-packages/ipykernel/kernelbase.py\u001b[0m in \u001b[0;36mraw_input\u001b[0;34m(self, prompt)\u001b[0m\n\u001b[1;32m    702\u001b[0m             \u001b[0mself\u001b[0m\u001b[0;34m.\u001b[0m\u001b[0m_parent_ident\u001b[0m\u001b[0;34m,\u001b[0m\u001b[0;34m\u001b[0m\u001b[0m\n\u001b[1;32m    703\u001b[0m             \u001b[0mself\u001b[0m\u001b[0;34m.\u001b[0m\u001b[0m_parent_header\u001b[0m\u001b[0;34m,\u001b[0m\u001b[0;34m\u001b[0m\u001b[0m\n\u001b[0;32m--> 704\u001b[0;31m             \u001b[0mpassword\u001b[0m\u001b[0;34m=\u001b[0m\u001b[0;32mFalse\u001b[0m\u001b[0;34m,\u001b[0m\u001b[0;34m\u001b[0m\u001b[0m\n\u001b[0m\u001b[1;32m    705\u001b[0m         )\n\u001b[1;32m    706\u001b[0m \u001b[0;34m\u001b[0m\u001b[0m\n",
      "\u001b[0;32m/anaconda3/envs/tf-gym/lib/python3.6/site-packages/ipykernel/kernelbase.py\u001b[0m in \u001b[0;36m_input_request\u001b[0;34m(self, prompt, ident, parent, password)\u001b[0m\n\u001b[1;32m    732\u001b[0m             \u001b[0;32mexcept\u001b[0m \u001b[0mKeyboardInterrupt\u001b[0m\u001b[0;34m:\u001b[0m\u001b[0;34m\u001b[0m\u001b[0m\n\u001b[1;32m    733\u001b[0m                 \u001b[0;31m# re-raise KeyboardInterrupt, to truncate traceback\u001b[0m\u001b[0;34m\u001b[0m\u001b[0;34m\u001b[0m\u001b[0m\n\u001b[0;32m--> 734\u001b[0;31m                 \u001b[0;32mraise\u001b[0m \u001b[0mKeyboardInterrupt\u001b[0m\u001b[0;34m\u001b[0m\u001b[0m\n\u001b[0m\u001b[1;32m    735\u001b[0m             \u001b[0;32melse\u001b[0m\u001b[0;34m:\u001b[0m\u001b[0;34m\u001b[0m\u001b[0m\n\u001b[1;32m    736\u001b[0m                 \u001b[0;32mbreak\u001b[0m\u001b[0;34m\u001b[0m\u001b[0m\n",
      "\u001b[0;31mKeyboardInterrupt\u001b[0m: "
     ]
    }
   ],
   "source": [
    "test.start_game(-1,troubling_moves,watching=True,fast_play=True,fast_play_count=troubling_index,clear=True,set_pdb=True)"
   ]
  }
 ],
 "metadata": {
  "kernelspec": {
   "display_name": "Python [conda env:tf-gym]",
   "language": "python",
   "name": "conda-env-tf-gym-py"
  },
  "language_info": {
   "codemirror_mode": {
    "name": "ipython",
    "version": 3
   },
   "file_extension": ".py",
   "mimetype": "text/x-python",
   "name": "python",
   "nbconvert_exporter": "python",
   "pygments_lexer": "ipython3",
   "version": "3.6.4"
  }
 },
 "nbformat": 4,
 "nbformat_minor": 2
}
