{
 "cells": [
  {
   "cell_type": "code",
   "execution_count": 1,
   "metadata": {},
   "outputs": [],
   "source": [
    "%reload_ext Cython"
   ]
  },
  {
   "cell_type": "code",
   "execution_count": 2,
   "metadata": {},
   "outputs": [],
   "source": [
    "import cProfile\n",
    "import tensorflow as tf\n",
    "import os\n",
    "import re\n",
    "import chess\n",
    "import test\n",
    "import boardclass\n",
    "import importlib\n",
    "import numpy as np\n",
    "import pickle\n",
    "import training\n",
    "import chess.svg\n",
    "from IPython.display import SVG,display,clear_output\n",
    "importlib.reload(boardclass)\n",
    "importlib.reload(test)\n",
    "importlib.reload(training)\n",
    "#takes a long time to load, so only run once\n",
    "data_size = 1# Amount of games to use as trainingdata. max is 2.000.000 (If you want a really good model, you're gonna wait for it :P)"
   ]
  },
  {
   "cell_type": "code",
   "execution_count": 3,
   "metadata": {},
   "outputs": [],
   "source": [
    "#This cell generates training data\n",
    "#Outcommented because training data already exists. If you want to generate more or less (tweak data_size), add the code and run this cell\n",
    "\n",
    "#train_data = training.TrainingData_PQR(\"../extracted/good_games.txt\",data_size)\n",
    "#bin_file = open(\"pickled_train_data.bin\",mode='wb')\n",
    "#pickle.dump(train_data,bin_file)\n",
    "#bin_file.close()"
   ]
  },
  {
   "cell_type": "code",
   "execution_count": 4,
   "metadata": {},
   "outputs": [
    {
     "ename": "FileNotFoundError",
     "evalue": "[Errno 2] No such file or directory: '../pickled_train_data.bin'",
     "output_type": "error",
     "traceback": [
      "\u001b[0;31m---------------------------------------------------------------------------\u001b[0m",
      "\u001b[0;31mFileNotFoundError\u001b[0m                         Traceback (most recent call last)",
      "\u001b[0;32m<ipython-input-4-b71c1d51b7e8>\u001b[0m in \u001b[0;36m<module>\u001b[0;34m()\u001b[0m\n\u001b[1;32m      1\u001b[0m \u001b[0;31m#Loads saved training data\u001b[0m\u001b[0;34m\u001b[0m\u001b[0;34m\u001b[0m\u001b[0m\n\u001b[1;32m      2\u001b[0m \u001b[0;34m\u001b[0m\u001b[0m\n\u001b[0;32m----> 3\u001b[0;31m \u001b[0mbin_file\u001b[0m \u001b[0;34m=\u001b[0m \u001b[0mopen\u001b[0m\u001b[0;34m(\u001b[0m\u001b[0;34m\"../pickled_train_data.bin\"\u001b[0m\u001b[0;34m,\u001b[0m\u001b[0mmode\u001b[0m\u001b[0;34m=\u001b[0m\u001b[0;34m'rb'\u001b[0m\u001b[0;34m)\u001b[0m\u001b[0;34m\u001b[0m\u001b[0m\n\u001b[0m\u001b[1;32m      4\u001b[0m \u001b[0mtrain_data\u001b[0m \u001b[0;34m=\u001b[0m \u001b[0mpickle\u001b[0m\u001b[0;34m.\u001b[0m\u001b[0mload\u001b[0m\u001b[0;34m(\u001b[0m\u001b[0mbin_file\u001b[0m\u001b[0;34m)\u001b[0m\u001b[0;34m\u001b[0m\u001b[0m\n\u001b[1;32m      5\u001b[0m \u001b[0mbin_file\u001b[0m\u001b[0;34m.\u001b[0m\u001b[0mclose\u001b[0m\u001b[0;34m(\u001b[0m\u001b[0;34m)\u001b[0m\u001b[0;34m\u001b[0m\u001b[0m\n",
      "\u001b[0;31mFileNotFoundError\u001b[0m: [Errno 2] No such file or directory: '../pickled_train_data.bin'"
     ]
    }
   ],
   "source": [
    "#Loads saved training data\n",
    "\n",
    "bin_file = open(\"../pickled_train_data.bin\",mode='rb')\n",
    "train_data = pickle.load(bin_file)\n",
    "bin_file.close()"
   ]
  },
  {
   "cell_type": "code",
   "execution_count": null,
   "metadata": {},
   "outputs": [],
   "source": [
    "len(train_data.p)"
   ]
  },
  {
   "cell_type": "code",
   "execution_count": null,
   "metadata": {},
   "outputs": [],
   "source": [
    "#After running the other cells, run this cell to train the model and start the game\n",
    "\n",
    "render_size = 300\n",
    "depth = 0\n",
    "model_path = \"model_final.meta\"\n",
    "\n",
    "def make_imported_model(path):\n",
    "    model = training.Model()\n",
    "    model.restore(path)\n",
    "    return model\n",
    "    \n",
    "def make_trained_model(train_data):   \n",
    "    model = training.Model()\n",
    "    model.run_session(train_data)\n",
    "    return model\n",
    "    \n",
    "#def make_trained_board(player,depth):\n",
    "#    model = training.Model()\n",
    "#    model.run_session(train_data,depth)\n",
    "#    model.save_\n",
    "##    importlib.reload(training)\n",
    "#    board = boardclass.ChessBoard(player)#,path=\"model_final.meta\")\n",
    "#    board.add_model(model)\n",
    "##    board.train_model(data_size,train_data,depth)\n",
    "##    board.restore_model()\n",
    "#    return board\n",
    "\n",
    "def start_game_with_GUI(player,model,machine_against_machine=False):\n",
    "    board = boardclass.ChessBoard()\n",
    "    board.add_model(model)\n",
    "    display(SVG(chess.svg.board(board=board.python_board,size=render_size)))\n",
    "    stop = False\n",
    "    p = re.compile(\"^[a-h][0-8][a-h][0-8](q|n|r|b)?$\")\n",
    "\n",
    "    while True:\n",
    "        move = input()\n",
    "        if move == \"exit\":\n",
    "            break\n",
    "        if board.player == player and not machine_against_machine:\n",
    "            if p.match(move) == None:\n",
    "                print(\"Move: {} is not valid, try again\".format(move))\n",
    "            else:\n",
    "                board.make_move(move)\n",
    "                \n",
    "        else:\n",
    "            \n",
    "            score,move = board.return_best_move(depth)\n",
    "            board.make_move(move)\n",
    "        clear_output()\n",
    "        display(SVG(chess.svg.board(board=board.python_board,size=render_size)))\n",
    "        if board.player_in_chess != None:\n",
    "            print(board.player_in_chess)\n",
    "            print(\"Player {} lost\".format(board.player))\n",
    "            break\n",
    "model_trained = make_trained_model(train_data)\n",
    "model_trained.save(\"model/model_final.ckpt\")\n",
    "model_imported = make_imported_model(\"model/model_final.ckpt\")\n",
    "model_trained.delete_model_files(\"model\",\"model_final\")\n",
    "start_game_with_GUI(-1,model_imported,machine_against_machine=False)"
   ]
  },
  {
   "cell_type": "code",
   "execution_count": null,
   "metadata": {},
   "outputs": [],
   "source": [
    "b = chess.Board()\n",
    "display(SVG(chess.svg.board(board=b,size=render_size)))\n",
    "while True:\n",
    "    do = input()\n",
    "    p = re.compile(\"^[a-h][0-8][a-h][0-8](q|n|r|b)?$\")\n",
    "    if not p.match(do):\n",
    "        continue\n",
    "    clear_output()\n",
    "    move = chess.Move.from_uci(do)\n",
    "    b.push(move)\n",
    "    display(SVG(chess.svg.board(board=b,size=render_size)))   \n",
    "    "
   ]
  },
  {
   "cell_type": "code",
   "execution_count": null,
   "metadata": {},
   "outputs": [],
   "source": [
    "x_1,y_1,x_2,y_2 = boardlib.algebraic_to_arr_indices(\"b7a6\")\n",
    ":q\n",
    "    \n",
    "print(x_1,y_1,x_2,y_2)\n",
    "#b = chess.Board()\n",
    "#square = chess.square(0,0)\n",
    "#square2 = chess.square(0,2)\n",
    "#piece = chess.Piece(b.piece_at(square).piece_type,True)\n",
    "#b.set_piece_at(square2,piece)\n",
    "#b.push(chess.Move.from_uci(\"a7a6\"))\n",
    "#b.piece_at(chess.square(0,5))\n",
    "#b"
   ]
  },
  {
   "cell_type": "code",
   "execution_count": null,
   "metadata": {},
   "outputs": [],
   "source": [
    "def fun(a,b):\n",
    "    return a+b\n",
    "\n",
    "s = fun\n",
    "s(3,5)"
   ]
  }
 ],
 "metadata": {
  "kernelspec": {
   "display_name": "Python [conda env:tf-gym]",
   "language": "python",
   "name": "conda-env-tf-gym-py"
  },
  "language_info": {
   "codemirror_mode": {
    "name": "ipython",
    "version": 3
   },
   "file_extension": ".py",
   "mimetype": "text/x-python",
   "name": "python",
   "nbconvert_exporter": "python",
   "pygments_lexer": "ipython3",
   "version": "3.6.4"
  }
 },
 "nbformat": 4,
 "nbformat_minor": 2
}
