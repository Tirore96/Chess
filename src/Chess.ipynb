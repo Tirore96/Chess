{
 "cells": [
  {
   "cell_type": "code",
   "execution_count": 1,
   "metadata": {},
   "outputs": [],
   "source": [
    "#%reload_ext Cython"
   ]
  },
  {
   "cell_type": "code",
   "execution_count": 2,
   "metadata": {},
   "outputs": [],
   "source": [
    "#import typing\n",
    "#import copy\n",
    "#import pdb\n",
    "#from IPython.display import clear_output\n",
    "#import numpy as np\n",
    "#import time\n",
    "#from colorama import Fore\n",
    "#import sys\n",
    "#import cProfile\n",
    "#from multiprocessing import Pool\n",
    "#import chess \n",
    "#import chess.uci\n",
    "#import tensorflow as tf\n",
    "#import random\n",
    "#import boardclass\n",
    "import test\n",
    "import boardclass"
   ]
  },
  {
   "cell_type": "code",
   "execution_count": 3,
   "metadata": {},
   "outputs": [
    {
     "name": "stdout",
     "output_type": "stream",
     "text": [
      "At 2, 5, expected -6, got 0. Previous moves: ['e4e5', 'f6d5', 'f3d5', 'b7d5', 'g3e4', 'd5e4', 'd4e4', 'h6h5', 'c2c3', 'f7f5'], reached 70 out of 78. Move is e5f6\n"
     ]
    }
   ],
   "source": [
    "path = \"../extracted/good_games.txt\"\n",
    "#boardclass.file_to_move_lists(path,move_size=5)\n",
    "test.compare_boards_with_file(path)"
   ]
  }
 ],
 "metadata": {
  "kernelspec": {
   "display_name": "Python [conda env:tf-gym]",
   "language": "python",
   "name": "conda-env-tf-gym-py"
  },
  "language_info": {
   "codemirror_mode": {
    "name": "ipython",
    "version": 3
   },
   "file_extension": ".py",
   "mimetype": "text/x-python",
   "name": "python",
   "nbconvert_exporter": "python",
   "pygments_lexer": "ipython3",
   "version": "3.6.4"
  }
 },
 "nbformat": 4,
 "nbformat_minor": 2
}
