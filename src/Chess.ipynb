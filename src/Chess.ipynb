{
 "cells": [
  {
   "cell_type": "code",
   "execution_count": 1,
   "metadata": {},
   "outputs": [],
   "source": [
    "#reload_ext Cython"
   ]
  },
  {
   "cell_type": "code",
   "execution_count": 121,
   "metadata": {},
   "outputs": [
    {
     "data": {
      "text/plain": [
       "<module 'test' from '/Users/dawit/Documents/Datalogi/MachineLearning_Projects/Chess/src/test.py'>"
      ]
     },
     "execution_count": 121,
     "metadata": {},
     "output_type": "execute_result"
    }
   ],
   "source": [
    "#import typing\n",
    "#import copy\n",
    "#import pdb\n",
    "#from IPython.display import clear_output\n",
    "#import numpy as np\n",
    "#import time\n",
    "#from colorama import Fore\n",
    "#import sys\n",
    "import cProfile\n",
    "#from multiprocessing import Pool\n",
    "#import chess \n",
    "#import chess.uci\n",
    "#import tensorflow as tf\n",
    "#import random\n",
    "#import boardclass\n",
    "import os\n",
    "import re\n",
    "import test\n",
    "import boardclass\n",
    "import boardlib\n",
    "import importlib\n",
    "importlib.reload(boardlib)\n",
    "importlib.reload(boardclass)\n",
    "importlib.reload(test)"
   ]
  },
  {
   "cell_type": "code",
   "execution_count": null,
   "metadata": {},
   "outputs": [],
   "source": [
    "test.start_game(-1,troubling_moves,watching=True,fast_play=True,fast_play_count=troubling_index-2,clear=True,set_pdb=False)"
   ]
  },
  {
   "cell_type": "code",
   "execution_count": 115,
   "metadata": {},
   "outputs": [
    {
     "name": "stderr",
     "output_type": "stream",
     "text": [
      ".................\n",
      "----------------------------------------------------------------------\n",
      "Ran 17 tests in 0.029s\n",
      "\n",
      "OK\n"
     ]
    }
   ],
   "source": [
    "importlib.reload(test)\n",
    "%run testcases.py"
   ]
  },
  {
   "cell_type": "code",
   "execution_count": null,
   "metadata": {},
   "outputs": [],
   "source": []
  }
 ],
 "metadata": {
  "kernelspec": {
   "display_name": "Python [conda env:tf-gym]",
   "language": "python",
   "name": "conda-env-tf-gym-py"
  },
  "language_info": {
   "codemirror_mode": {
    "name": "ipython",
    "version": 3
   },
   "file_extension": ".py",
   "mimetype": "text/x-python",
   "name": "python",
   "nbconvert_exporter": "python",
   "pygments_lexer": "ipython3",
   "version": "3.6.4"
  }
 },
 "nbformat": 4,
 "nbformat_minor": 2
}
