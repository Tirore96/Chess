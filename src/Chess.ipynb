{
 "cells": [
  {
   "cell_type": "code",
   "execution_count": 1,
   "metadata": {},
   "outputs": [],
   "source": [
    "%reload_ext Cython"
   ]
  },
  {
   "cell_type": "code",
   "execution_count": 18,
   "metadata": {},
   "outputs": [
    {
     "data": {
      "text/plain": [
       "<module 'training' from '/Users/dawit/Documents/Datalogi/MachineLearning_Projects/Chess/src/training.py'>"
      ]
     },
     "execution_count": 18,
     "metadata": {},
     "output_type": "execute_result"
    }
   ],
   "source": [
    "#import typing\n",
    "#import copy\n",
    "#import pdb\n",
    "#from IPython.display import clear_output\n",
    "#import numpy as np\n",
    "#import time\n",
    "#from colorama import Fore\n",
    "#import sys\n",
    "import cProfile\n",
    "#from multiprocessing import Pool\n",
    "#import chess \n",
    "#import chess.uci\n",
    "import tensorflow as tf\n",
    "#import random\n",
    "#import boardclass\n",
    "import os\n",
    "import re\n",
    "import chess\n",
    "import test\n",
    "import boardclass\n",
    "import importlib\n",
    "import training\n",
    "import numpy as np\n",
    "#import boardlib\n",
    "importlib.reload(boardclass)\n",
    "#importlib.reload(boardlib)\n",
    "importlib.reload(test)\n",
    "importlib.reload(training)"
   ]
  },
  {
   "cell_type": "code",
   "execution_count": 3,
   "metadata": {},
   "outputs": [],
   "source": [
    "train_data = training.TrainingData_PQR(\"../extracted/good_games.txt\",8)"
   ]
  },
  {
   "cell_type": "code",
   "execution_count": 19,
   "metadata": {},
   "outputs": [
    {
     "name": "stdout",
     "output_type": "stream",
     "text": [
      "Optimization Iteration 0, Training Accuracy 6745.484161376953\n",
      "Optimization Iteration 1, Training Accuracy 6909.6923828125\n",
      "Optimization Iteration 2, Training Accuracy 8219.193267822266\n",
      "Optimization Iteration 3, Training Accuracy 7203.913116455078\n",
      "Time used 0.262714147567749\n"
     ]
    }
   ],
   "source": [
    "training.run_session(4,train_data,2)"
   ]
  },
  {
   "cell_type": "code",
   "execution_count": 5,
   "metadata": {},
   "outputs": [],
   "source": [
    "#test.start_game(-1,[],watching=False,fast_play=False,fast_play_count=0,clear=False,set_pdb=False)"
   ]
  },
  {
   "cell_type": "code",
   "execution_count": 6,
   "metadata": {},
   "outputs": [
    {
     "name": "stderr",
     "output_type": "stream",
     "text": [
      ".................\n",
      "----------------------------------------------------------------------\n",
      "Ran 17 tests in 0.037s\n",
      "\n",
      "OK\n"
     ]
    }
   ],
   "source": [
    "importlib.reload(test)\n",
    "%run testcases.py"
   ]
  },
  {
   "cell_type": "code",
   "execution_count": null,
   "metadata": {},
   "outputs": [],
   "source": []
  }
 ],
 "metadata": {
  "kernelspec": {
   "display_name": "Python [conda env:tf-gym]",
   "language": "python",
   "name": "conda-env-tf-gym-py"
  },
  "language_info": {
   "codemirror_mode": {
    "name": "ipython",
    "version": 3
   },
   "file_extension": ".py",
   "mimetype": "text/x-python",
   "name": "python",
   "nbconvert_exporter": "python",
   "pygments_lexer": "ipython3",
   "version": "3.6.4"
  }
 },
 "nbformat": 4,
 "nbformat_minor": 2
}
