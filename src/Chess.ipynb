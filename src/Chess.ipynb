{
 "cells": [
  {
   "cell_type": "code",
   "execution_count": 1,
   "metadata": {},
   "outputs": [],
   "source": [
    "%reload_ext Cython"
   ]
  },
  {
   "cell_type": "code",
   "execution_count": 2,
   "metadata": {},
   "outputs": [],
   "source": [
    "import training\n",
    "import importlib\n",
    "importlib.reload(training)\n",
    "#takes a long time to load, so only run once\n",
    "data_size = 100\n",
    "train_data = training.TrainingData_PQR(\"../extracted/good_games.txt\",data_size)"
   ]
  },
  {
   "cell_type": "code",
   "execution_count": 3,
   "metadata": {},
   "outputs": [
    {
     "data": {
      "text/plain": [
       "<module 'training' from '/Users/dawit/Documents/Datalogi/MachineLearning_Projects/Chess/src/training.py'>"
      ]
     },
     "execution_count": 3,
     "metadata": {},
     "output_type": "execute_result"
    }
   ],
   "source": [
    "import cProfile\n",
    "import tensorflow as tf\n",
    "import os\n",
    "import re\n",
    "import chess\n",
    "import test\n",
    "import boardclass\n",
    "import importlib\n",
    "import numpy as np\n",
    "importlib.reload(boardclass)\n",
    "importlib.reload(test)\n",
    "importlib.reload(training)"
   ]
  },
  {
   "cell_type": "code",
   "execution_count": 4,
   "metadata": {},
   "outputs": [
    {
     "name": "stdout",
     "output_type": "stream",
     "text": [
      "Time used 0.2088942527770996\n",
      "Model saved at model_final\n",
      "INFO:tensorflow:Restoring parameters from ./model_final\n",
      "[[ 130.18974304]] b1c3\n"
     ]
    }
   ],
   "source": [
    "board = boardclass.ChessBoard(-1)\n",
    "board.train_model(data_size,train_data,1)\n",
    "board.restore_model()"
   ]
  },
  {
   "cell_type": "code",
   "execution_count": null,
   "metadata": {},
   "outputs": [
    {
     "name": "stdout",
     "output_type": "stream",
     "text": [
      "\u001b[30m8\t\u001b[34mRook\t\u001b[34mKnight\t\u001b[34mBishop\t\u001b[30m_\t\u001b[34mKing\t\u001b[30m_\t\u001b[34mKnight\t\u001b[34mRook\t\n",
      "\n",
      "\u001b[30m7\t\u001b[30m_\t\u001b[30m_\t\u001b[34mQueen\t\u001b[34mPawn\t\u001b[30m_\t\u001b[34mPawn\t\u001b[34mPawn\t\u001b[34mPawn\t\n",
      "\n",
      "\u001b[30m6\t\u001b[30m_\t\u001b[30m_\t\u001b[30m_\t\u001b[30m_\t\u001b[34mPawn\t\u001b[30m_\t\u001b[30m_\t\u001b[30m_\t\n",
      "\n",
      "\u001b[30m5\t\u001b[34mPawn\t\u001b[30m_\t\u001b[30m_\t\u001b[30m_\t\u001b[30m_\t\u001b[30m_\t\u001b[30m_\t\u001b[30m_\t\n",
      "\n",
      "\u001b[30m4\t\u001b[30m_\t\u001b[30m_\t\u001b[30m_\t\u001b[30m_\t\u001b[30m_\t\u001b[30m_\t\u001b[30m_\t\u001b[30m_\t\n",
      "\n",
      "\u001b[30m3\t\u001b[34mBishop\t\u001b[30m_\t\u001b[30m_\t\u001b[30m_\t\u001b[30m_\t\u001b[30m_\t\u001b[30m_\t\u001b[30m_\t\n",
      "\n",
      "\u001b[30m2\t\u001b[30m_\t\u001b[30mPawn\t\u001b[30mPawn\t\u001b[30mPawn\t\u001b[30mPawn\t\u001b[30mPawn\t\u001b[30mPawn\t\u001b[30mPawn\t\n",
      "\n",
      "\u001b[30m1\t\u001b[30mRook\t\u001b[30mKnight\t\u001b[30mBishop\t\u001b[30mQueen\t\u001b[30mKing\t\u001b[30mBishop\t\u001b[30mKnight\t\u001b[30mRook\t\n",
      "\n",
      "\t\u001b[30ma\t\u001b[30mb\t\u001b[30mc\t\u001b[30md\t\u001b[30me\t\u001b[30mf\t\u001b[30mg\t\u001b[30mh\t\n",
      "['1', 'Pawn']\n"
     ]
    }
   ],
   "source": [
    "test.start_game(-1,clear=True,against_AI=True,b=board)"
   ]
  }
 ],
 "metadata": {
  "kernelspec": {
   "display_name": "Python [conda env:tf-gym]",
   "language": "python",
   "name": "conda-env-tf-gym-py"
  },
  "language_info": {
   "codemirror_mode": {
    "name": "ipython",
    "version": 3
   },
   "file_extension": ".py",
   "mimetype": "text/x-python",
   "name": "python",
   "nbconvert_exporter": "python",
   "pygments_lexer": "ipython3",
   "version": "3.6.4"
  }
 },
 "nbformat": 4,
 "nbformat_minor": 2
}
