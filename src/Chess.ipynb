{
 "cells": [
  {
   "cell_type": "code",
   "execution_count": 1,
   "metadata": {},
   "outputs": [],
   "source": [
    "%reload_ext Cython"
   ]
  },
  {
   "cell_type": "code",
   "execution_count": 2,
   "metadata": {},
   "outputs": [],
   "source": [
    "import cProfile\n",
    "import tensorflow as tf\n",
    "import os\n",
    "import re\n",
    "import chess\n",
    "import test\n",
    "import boardclass\n",
    "import importlib\n",
    "import numpy as np\n",
    "import pickle\n",
    "import training\n",
    "importlib.reload(boardclass)\n",
    "importlib.reload(test)\n",
    "importlib.reload(training)\n",
    "#takes a long time to load, so only run once\n",
    "data_size = 100"
   ]
  },
  {
   "cell_type": "code",
   "execution_count": 3,
   "metadata": {},
   "outputs": [],
   "source": [
    "#train_data = training.TrainingData_PQR(\"../extracted/good_games.txt\",data_size)\n",
    "#bin_file = open(\"pickled_train_data.bin\",mode='wb')\n",
    "#pickle.dump(train_data,bin_file)\n",
    "#bin_file.close()"
   ]
  },
  {
   "cell_type": "code",
   "execution_count": 4,
   "metadata": {},
   "outputs": [],
   "source": [
    "bin_file = open(\"pickled_train_data.bin\",mode='rb')\n",
    "train_data = pickle.load(bin_file)\n",
    "bin_file.close()"
   ]
  },
  {
   "cell_type": "code",
   "execution_count": 5,
   "metadata": {},
   "outputs": [
    {
     "name": "stdout",
     "output_type": "stream",
     "text": [
      "score P: [[-117.05028534]]\n",
      "score Q: [[ 143.57678223]]\n",
      "score R: [[-99.55487823]]\n",
      "Time used 2.7115700244903564\n",
      "Model saved at model_final\n",
      "INFO:tensorflow:Restoring parameters from ./model_final\n"
     ]
    }
   ],
   "source": [
    "tf.reset_default_graph()\n",
    "importlib.reload(training)\n",
    "board = boardclass.ChessBoard(-1)\n",
    "board.train_model(data_size,train_data,1)\n",
    "board.restore_model()"
   ]
  },
  {
   "cell_type": "code",
   "execution_count": 6,
   "metadata": {},
   "outputs": [
    {
     "name": "stdout",
     "output_type": "stream",
     "text": [
      "\u001b[30m8\t\u001b[30mRook\t\u001b[30m_\t\u001b[30m_\t\u001b[34mKing\t\u001b[30m_\t\u001b[30m_\t\u001b[30m_\t\u001b[30m_\t\n",
      "\n",
      "\u001b[30m7\t\u001b[30m_\t\u001b[30m_\t\u001b[30m_\t\u001b[30m_\t\u001b[30m_\t\u001b[30mQueen\t\u001b[30m_\t\u001b[30m_\t\n",
      "\n",
      "\u001b[30m6\t\u001b[30m_\t\u001b[30m_\t\u001b[30m_\t\u001b[30m_\t\u001b[30m_\t\u001b[30m_\t\u001b[30m_\t\u001b[30m_\t\n",
      "\n",
      "\u001b[30m5\t\u001b[30m_\t\u001b[30m_\t\u001b[30m_\t\u001b[30m_\t\u001b[30m_\t\u001b[30m_\t\u001b[30m_\t\u001b[30m_\t\n",
      "\n",
      "\u001b[30m4\t\u001b[30m_\t\u001b[30m_\t\u001b[30m_\t\u001b[30m_\t\u001b[30m_\t\u001b[30m_\t\u001b[30m_\t\u001b[30m_\t\n",
      "\n",
      "\u001b[30m3\t\u001b[30m_\t\u001b[30m_\t\u001b[30m_\t\u001b[30m_\t\u001b[30m_\t\u001b[30m_\t\u001b[30m_\t\u001b[30m_\t\n",
      "\n",
      "\u001b[30m2\t\u001b[30m_\t\u001b[30mPawn\t\u001b[30mPawn\t\u001b[30m_\t\u001b[30m_\t\u001b[30mPawn\t\u001b[30mPawn\t\u001b[30m_\t\n",
      "\n",
      "\u001b[30m1\t\u001b[30m_\t\u001b[30mKnight\t\u001b[30mBishop\t\u001b[30m_\t\u001b[30mKing\t\u001b[30m_\t\u001b[30mKnight\t\u001b[30m_\t\n",
      "\n",
      "\t\u001b[30ma\t\u001b[30mb\t\u001b[30mc\t\u001b[30md\t\u001b[30me\t\u001b[30mf\t\u001b[30mg\t\u001b[30mh\t\n",
      "[]\n",
      "1\n",
      "Player 1 lost\n",
      "\u001b[30m8\t\u001b[30mRook\t\u001b[30m_\t\u001b[30m_\t\u001b[34mKing\t\u001b[30m_\t\u001b[30m_\t\u001b[30m_\t\u001b[30m_\t\n",
      "\n",
      "\u001b[30m7\t\u001b[30m_\t\u001b[30m_\t\u001b[30m_\t\u001b[30m_\t\u001b[30m_\t\u001b[30mQueen\t\u001b[30m_\t\u001b[30m_\t\n",
      "\n",
      "\u001b[30m6\t\u001b[30m_\t\u001b[30m_\t\u001b[30m_\t\u001b[30m_\t\u001b[30m_\t\u001b[30m_\t\u001b[30m_\t\u001b[30m_\t\n",
      "\n",
      "\u001b[30m5\t\u001b[30m_\t\u001b[30m_\t\u001b[30m_\t\u001b[30m_\t\u001b[30m_\t\u001b[30m_\t\u001b[30m_\t\u001b[30m_\t\n",
      "\n",
      "\u001b[30m4\t\u001b[30m_\t\u001b[30m_\t\u001b[30m_\t\u001b[30m_\t\u001b[30m_\t\u001b[30m_\t\u001b[30m_\t\u001b[30m_\t\n",
      "\n",
      "\u001b[30m3\t\u001b[30m_\t\u001b[30m_\t\u001b[30m_\t\u001b[30m_\t\u001b[30m_\t\u001b[30m_\t\u001b[30m_\t\u001b[30m_\t\n",
      "\n",
      "\u001b[30m2\t\u001b[30m_\t\u001b[30mPawn\t\u001b[30mPawn\t\u001b[30m_\t\u001b[30m_\t\u001b[30mPawn\t\u001b[30mPawn\t\u001b[30m_\t\n",
      "\n",
      "\u001b[30m1\t\u001b[30m_\t\u001b[30mKnight\t\u001b[30mBishop\t\u001b[30m_\t\u001b[30mKing\t\u001b[30m_\t\u001b[30mKnight\t\u001b[30m_\t\n",
      "\n",
      "\t\u001b[30ma\t\u001b[30mb\t\u001b[30mc\t\u001b[30md\t\u001b[30me\t\u001b[30mf\t\u001b[30mg\t\u001b[30mh\t"
     ]
    }
   ],
   "source": [
    "test.start_game(-1,clear=True,against_AI=True,b=board)"
   ]
  },
  {
   "cell_type": "code",
   "execution_count": null,
   "metadata": {},
   "outputs": [],
   "source": []
  }
 ],
 "metadata": {
  "kernelspec": {
   "display_name": "Python [conda env:tf-gym]",
   "language": "python",
   "name": "conda-env-tf-gym-py"
  },
  "language_info": {
   "codemirror_mode": {
    "name": "ipython",
    "version": 3
   },
   "file_extension": ".py",
   "mimetype": "text/x-python",
   "name": "python",
   "nbconvert_exporter": "python",
   "pygments_lexer": "ipython3",
   "version": "3.6.4"
  }
 },
 "nbformat": 4,
 "nbformat_minor": 2
}
